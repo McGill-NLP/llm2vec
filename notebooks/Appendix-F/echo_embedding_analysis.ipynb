{
 "cells": [
  {
   "cell_type": "code",
   "execution_count": 4,
   "metadata": {},
   "outputs": [],
   "source": [
    "import os \n",
    "\n",
    "import matplotlib\n",
    "import matplotlib.pyplot as plt\n",
    "import numpy as np\n",
    "import pandas as pd"
   ]
  },
  {
   "cell_type": "code",
   "execution_count": 5,
   "metadata": {},
   "outputs": [],
   "source": [
    "# configure matplotlib\n",
    "plt.rcParams['text.usetex'] = True # enable LaTeX plotting\n",
    "\n",
    "params = {\n",
    "    \"axes.linewidth\": 1.5\n",
    "}\n",
    "matplotlib.rcParams.update(params) # set default parameters for matplotlib"
   ]
  },
  {
   "cell_type": "markdown",
   "metadata": {},
   "source": [
    "## Replicating embedding comaprison of the Echo embeddings paper with our models"
   ]
  },
  {
   "cell_type": "code",
   "execution_count": null,
   "metadata": {},
   "outputs": [],
   "source": [
    "# family = \"Sheared-LLaMA-1.3B\"\n",
    "# family = \"Llama-2-7b-chat-hf\"\n",
    "family = \"Mistral-7B-Instruct-v0.2\"\n",
    "\n",
    "skip_B = True # compute similarity only based on A\n",
    "# skip_B = False # compute similarity based on A, B\n",
    "\n",
    "MODELS = [\n",
    "    # baselines\n",
    "    f\"{family}_uni_initialize_skip-{skip_B}\",\n",
    "    f\"{family}_bi_initialize_skip-{skip_B}\",\n",
    "\n",
    "    # # our models\n",
    "    f\"{family}_mlm_initialize_skip-{skip_B}\",\n",
    "    f\"{family}_mlm_simcse_merge_skip-{skip_B}\",\n",
    "\n",
    "    # echo\n",
    "    f\"{family}_echo_skip-{skip_B}\",\n",
    "]\n",
    "\n",
    "MODEL_NAMES = {\n",
    "    # baselines\n",
    "    f\"{family}_uni_initialize_skip-{skip_B}\": \"Uni\",\n",
    "    f\"{family}_bi_initialize_skip-{skip_B}\": \"Bi (no training)\",\n",
    "\n",
    "    # # our models\n",
    "    f\"{family}_mlm_initialize_skip-{skip_B}\": \"Bi + MNTP\",\n",
    "    f\"{family}_mlm_simcse_merge_skip-{skip_B}\": \"Bi + MNTP + SimCSE\",\n",
    "\n",
    "    # echo\n",
    "    f\"{family}_echo_skip-{skip_B}\": \"Echo embeddings\",\n",
    "}\n",
    "\n",
    "data_path = \"/Users/mariusmosbach/Development/plots/llm2vec/data/echo_analysis_output\"\n",
    "\n",
    "for model in MODELS:\n",
    "    name = f\"structure_1_{model}.npy\"\n",
    "    similarities = np.load(os.path.join(data_path, name))\n",
    "\n",
    "    fig, axes = plt.subplots(nrows=1, ncols=1, figsize=(5.0, 3.5), dpi=120)\n",
    "\n",
    "    bins = 15\n",
    "    axes.hist(similarities[:, 0], bins=bins, width=.01, linewidth=2.0, edgecolor=\"black\", alpha=0.75, density=True, label=r\"Sim(q, $s^-$)\")\n",
    "    # axes.hist(similarities[:, 1], bins=bins, width=.01, edgecolor=\"black\", color=\"tab:green\", alpha=0.7, density=True, label=r\"Sim(q, $s^{+}$)\") # these examples have a different prefix\n",
    "    axes.hist(similarities[:, 2], bins=bins, width=.01, linewidth=2.0, edgecolor=\"black\", alpha=0.75, density=True, label=\"Sim(q, $s^{+}$)\") # these samples have the same prefix\n",
    "\n",
    "    axes.set_xlabel(\"Sim (cosine similarity)\", fontsize=18)\n",
    "    axes.set_ylabel(\"Density\", fontsize=18)\n",
    "    axes.tick_params(axis='both', which='major', labelsize=18)\n",
    "    axes.set_title(MODEL_NAMES[model], fontsize=18)\n",
    "    axes.legend(loc=\"best\", fontsize=18)\n",
    "\n",
    "    plt.tight_layout()\n",
    "    plot_path = os.path.join('/Users/mariusmosbach/Development/plots/llm2vec/saved_plots/embedding_analysis', f\"{model}.pdf\")\n",
    "    plt.savefig(plot_path, dpi='figure', bbox_inches='tight')\n",
    "    plt.show()\n",
    "    plt.close();"
   ]
  },
  {
   "cell_type": "code",
   "execution_count": null,
   "metadata": {},
   "outputs": [],
   "source": []
  }
 ],
 "metadata": {
  "kernelspec": {
   "display_name": ".plots-venv",
   "language": "python",
   "name": "python3"
  },
  "language_info": {
   "codemirror_mode": {
    "name": "ipython",
    "version": 3
   },
   "file_extension": ".py",
   "mimetype": "text/x-python",
   "name": "python",
   "nbconvert_exporter": "python",
   "pygments_lexer": "ipython3",
   "version": "3.12.2"
  }
 },
 "nbformat": 4,
 "nbformat_minor": 2
}
